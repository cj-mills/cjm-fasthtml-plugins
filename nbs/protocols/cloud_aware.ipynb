{
 "cells": [
  {
   "cell_type": "markdown",
   "id": "a1b2c3d4",
   "metadata": {},
   "source": [
    "# Cloud-Aware Protocol\n",
    "\n",
    "> Protocol for plugins that use cloud or remote computing resources"
   ]
  },
  {
   "cell_type": "code",
   "execution_count": null,
   "id": "e5f6g7h8",
   "metadata": {},
   "outputs": [],
   "source": [
    "#| default_exp protocols.cloud_aware"
   ]
  },
  {
   "cell_type": "code",
   "execution_count": null,
   "id": "i9j0k1l2",
   "metadata": {},
   "outputs": [],
   "source": [
    "#| hide\n",
    "from nbdev.showdoc import *"
   ]
  },
  {
   "cell_type": "code",
   "execution_count": null,
   "id": "m3n4o5p6",
   "metadata": {},
   "outputs": [],
   "source": [
    "#| export\n",
    "from typing import Protocol, runtime_checkable, Optional\n",
    "\n",
    "from cjm_fasthtml_plugins.core.metadata import RemoteResourceInfo"
   ]
  },
  {
   "cell_type": "markdown",
   "id": "q7r8s9t0",
   "metadata": {},
   "source": [
    "## Cloud-Aware Plugin Protocol\n",
    "\n",
    "This protocol defines the interface for plugins that execute on cloud or remote resources.\n",
    "\n",
    "Use cases:\n",
    "- Cloud GPU rental (Lambda Labs, RunPod, Vast.ai)\n",
    "- Cloud VMs (AWS EC2, GCP Compute)\n",
    "- Cloud containers (AWS ECS, Cloud Run)\n",
    "- Remote SSH execution\n",
    "\n",
    "Plugins implementing this protocol enable:\n",
    "- Cost tracking and estimation\n",
    "- Resource provisioning and termination\n",
    "- Status monitoring\n",
    "- Budget enforcement"
   ]
  },
  {
   "cell_type": "code",
   "execution_count": null,
   "id": "u1v2w3x4",
   "metadata": {},
   "outputs": [],
   "source": [
    "#| export\n",
    "@runtime_checkable\n",
    "class CloudAwarePlugin(Protocol):\n",
    "    \"\"\"Protocol for plugins that use cloud/remote resources.\"\"\"\n",
    "    \n",
    "    def get_remote_resource_info(self) -> Optional[RemoteResourceInfo]:  # RemoteResourceInfo if resources are provisioned, None otherwise\n",
    "        \"\"\"Get information about remote/cloud resources.\"\"\"\n",
    "        ...\n",
    "    \n",
    "    def provision_remote_resource(self, **config) -> RemoteResourceInfo:  # RemoteResourceInfo with details about provisioned resource\n",
    "        \"\"\"Provision cloud resources (VM, container, etc.).\"\"\"\n",
    "        ...\n",
    "    \n",
    "    def check_remote_resource_status(self) -> str:  # Status string (e.g., 'running', 'stopped', 'provisioning')\n",
    "        \"\"\"Check status of remote resource.\"\"\"\n",
    "        ...\n",
    "    \n",
    "    def terminate_remote_resource(self) -> bool:  # True if termination succeeded\n",
    "        \"\"\"Terminate/stop cloud resources to avoid costs.\"\"\"\n",
    "        ...\n",
    "    \n",
    "    def estimate_cost(self, \n",
    "                     duration_hours: float  # Estimated runtime in hours\n",
    "                    ) -> float:  # Estimated cost in USD\n",
    "        \"\"\"Estimate cost for running this duration.\"\"\"\n",
    "        ..."
   ]
  },
  {
   "cell_type": "markdown",
   "id": "y5z6a7b8",
   "metadata": {},
   "source": [
    "## Example Implementation\n",
    "\n",
    "Here's a mock cloud-based plugin:"
   ]
  },
  {
   "cell_type": "code",
   "execution_count": null,
   "id": "c9d0e1f2",
   "metadata": {},
   "outputs": [],
   "source": [
    "# Example: Mock cloud plugin\n",
    "from cjm_fasthtml_plugins.core.execution_mode import CloudProviderType\n",
    "\n",
    "class MockCloudPlugin:\n",
    "    \"\"\"Mock plugin that uses cloud resources.\"\"\"\n",
    "    \n",
    "    def __init__(self):\n",
    "        self.remote_resource: Optional[RemoteResourceInfo] = None\n",
    "    \n",
    "    # Implement CloudAwarePlugin protocol\n",
    "    \n",
    "    def get_remote_resource_info(self) -> Optional[RemoteResourceInfo]:\n",
    "        return self.remote_resource\n",
    "    \n",
    "    def provision_remote_resource(self, **config) -> RemoteResourceInfo:\n",
    "        print(\"Provisioning cloud GPU instance...\")\n",
    "        \n",
    "        # Mock provisioning\n",
    "        self.remote_resource = RemoteResourceInfo(\n",
    "            provider=CloudProviderType.LAMBDA_LABS,\n",
    "            instance_id=\"0x1a2b3c4d\",\n",
    "            resource_type=\"4x_A100\",\n",
    "            gpu_count=4,\n",
    "            gpu_type=\"A100\",\n",
    "            status=\"running\",\n",
    "            estimated_cost_per_hour=4.40,\n",
    "            ssh_host=\"54.123.45.67\",\n",
    "            region=\"us-west-1\"\n",
    "        )\n",
    "        \n",
    "        print(f\"Provisioned: {self.remote_resource.resource_type}\")\n",
    "        return self.remote_resource\n",
    "    \n",
    "    def check_remote_resource_status(self) -> str:\n",
    "        if not self.remote_resource:\n",
    "            return \"not_provisioned\"\n",
    "        return self.remote_resource.status\n",
    "    \n",
    "    def terminate_remote_resource(self) -> bool:\n",
    "        if self.remote_resource:\n",
    "            print(f\"Terminating instance: {self.remote_resource.instance_id}\")\n",
    "            self.remote_resource.status = \"terminated\"\n",
    "            return True\n",
    "        return False\n",
    "    \n",
    "    def estimate_cost(self, duration_hours: float) -> float:\n",
    "        if not self.remote_resource:\n",
    "            return 0.0\n",
    "        hourly = self.remote_resource.estimated_cost_per_hour or 0.0\n",
    "        return duration_hours * hourly"
   ]
  },
  {
   "cell_type": "code",
   "execution_count": null,
   "id": "g3h4i5j6",
   "metadata": {},
   "outputs": [
    {
     "name": "stdout",
     "output_type": "stream",
     "text": [
      "Implements protocol: True\n",
      "\n",
      "Initial status: not_provisioned\n",
      "Resource info: None\n",
      "Provisioning cloud GPU instance...\n",
      "Provisioned: 4x_A100\n",
      "\n",
      "After provisioning:\n",
      "  Status: running\n",
      "  Provider: lambda_labs\n",
      "  GPUs: 4x A100\n",
      "  Cost: $4.4/hour\n",
      "\n",
      "Cost estimates:\n",
      "  1 hour: $4.40\n",
      "  8 hours: $35.20\n",
      "Terminating instance: 0x1a2b3c4d\n",
      "\n",
      "Termination successful: True\n",
      "Final status: terminated\n"
     ]
    }
   ],
   "source": [
    "# Test the mock plugin\n",
    "plugin = MockCloudPlugin()\n",
    "\n",
    "# Check it implements the protocol\n",
    "print(f\"Implements protocol: {isinstance(plugin, CloudAwarePlugin)}\")\n",
    "\n",
    "# Check initial state\n",
    "print(f\"\\nInitial status: {plugin.check_remote_resource_status()}\")\n",
    "print(f\"Resource info: {plugin.get_remote_resource_info()}\")\n",
    "\n",
    "# Provision resources\n",
    "resource = plugin.provision_remote_resource()\n",
    "print(f\"\\nAfter provisioning:\")\n",
    "print(f\"  Status: {plugin.check_remote_resource_status()}\")\n",
    "print(f\"  Provider: {resource.provider.value}\")\n",
    "print(f\"  GPUs: {resource.gpu_count}x {resource.gpu_type}\")\n",
    "print(f\"  Cost: ${resource.estimated_cost_per_hour}/hour\")\n",
    "\n",
    "# Estimate costs\n",
    "cost_1hr = plugin.estimate_cost(1.0)\n",
    "cost_8hr = plugin.estimate_cost(8.0)\n",
    "print(f\"\\nCost estimates:\")\n",
    "print(f\"  1 hour: ${cost_1hr:.2f}\")\n",
    "print(f\"  8 hours: ${cost_8hr:.2f}\")\n",
    "\n",
    "# Terminate\n",
    "success = plugin.terminate_remote_resource()\n",
    "print(f\"\\nTermination successful: {success}\")\n",
    "print(f\"Final status: {plugin.check_remote_resource_status()}\")"
   ]
  },
  {
   "cell_type": "markdown",
   "id": "k7l8m9n0",
   "metadata": {},
   "source": [
    "## Helper Functions\n",
    "\n",
    "Utilities for working with cloud-aware plugins."
   ]
  },
  {
   "cell_type": "code",
   "execution_count": null,
   "id": "o1p2q3r4",
   "metadata": {},
   "outputs": [],
   "source": [
    "#| export\n",
    "from typing import Any, List\n",
    "\n",
    "def is_cloud_aware(plugin: Any  # Plugin instance to check\n",
    "                  ) -> bool:  # True if plugin implements the protocol\n",
    "    \"\"\"Check if a plugin implements the CloudAwarePlugin protocol.\"\"\"\n",
    "    return isinstance(plugin, CloudAwarePlugin)\n",
    "\n",
    "def has_active_cloud_resources(plugin: Any  # Plugin instance\n",
    "                               ) -> bool:  # True if plugin has running cloud resources\n",
    "    \"\"\"Check if plugin has active cloud resources.\"\"\"\n",
    "    if not is_cloud_aware(plugin):\n",
    "        return False\n",
    "    \n",
    "    resource_info = plugin.get_remote_resource_info()\n",
    "    if not resource_info:\n",
    "        return False\n",
    "    \n",
    "    return resource_info.status == \"running\"\n",
    "\n",
    "def get_total_estimated_cost(plugins: List[Any],  # List of plugin instances\n",
    "                            duration_hours: float = 1.0  # Duration to estimate for\n",
    "                           ) -> float:  # Total estimated cost in USD\n",
    "    \"\"\"Get total estimated cost for multiple plugins.\"\"\"\n",
    "    total = 0.0\n",
    "    for plugin in plugins:\n",
    "        if is_cloud_aware(plugin) and has_active_cloud_resources(plugin):\n",
    "            total += plugin.estimate_cost(duration_hours)\n",
    "    return total"
   ]
  },
  {
   "cell_type": "code",
   "execution_count": null,
   "id": "s5t6u7v8",
   "metadata": {},
   "outputs": [
    {
     "name": "stdout",
     "output_type": "stream",
     "text": [
      "Provisioning cloud GPU instance...\n",
      "Provisioned: 4x_A100\n",
      "Provisioning cloud GPU instance...\n",
      "Provisioned: 4x_A100\n",
      "Plugin 1 is cloud aware: True\n",
      "Plugin 1 has active resources: True\n",
      "\n",
      "Total cost for 2 plugins:\n",
      "  1 hour: $8.80\n",
      "  24 hours: $211.20\n",
      "Terminating instance: 0x1a2b3c4d\n",
      "Terminating instance: 0x1a2b3c4d\n",
      "\n",
      "After termination:\n",
      "Plugin 1 has active resources: False\n"
     ]
    }
   ],
   "source": [
    "# Test helper functions\n",
    "plugin1 = MockCloudPlugin()\n",
    "plugin1.provision_remote_resource()\n",
    "\n",
    "plugin2 = MockCloudPlugin()\n",
    "plugin2.provision_remote_resource()\n",
    "\n",
    "print(f\"Plugin 1 is cloud aware: {is_cloud_aware(plugin1)}\")\n",
    "print(f\"Plugin 1 has active resources: {has_active_cloud_resources(plugin1)}\")\n",
    "\n",
    "# Test with multiple plugins\n",
    "plugins = [plugin1, plugin2, {\"not\": \"a plugin\"}]\n",
    "total_cost_1hr = get_total_estimated_cost(plugins, 1.0)\n",
    "total_cost_24hr = get_total_estimated_cost(plugins, 24.0)\n",
    "\n",
    "print(f\"\\nTotal cost for 2 plugins:\")\n",
    "print(f\"  1 hour: ${total_cost_1hr:.2f}\")\n",
    "print(f\"  24 hours: ${total_cost_24hr:.2f}\")\n",
    "\n",
    "# Terminate resources\n",
    "plugin1.terminate_remote_resource()\n",
    "plugin2.terminate_remote_resource()\n",
    "\n",
    "print(f\"\\nAfter termination:\")\n",
    "print(f\"Plugin 1 has active resources: {has_active_cloud_resources(plugin1)}\")"
   ]
  },
  {
   "cell_type": "code",
   "execution_count": null,
   "id": "w9x0y1z2",
   "metadata": {},
   "outputs": [],
   "source": []
  },
  {
   "cell_type": "code",
   "execution_count": null,
   "id": "a3b4c5d6",
   "metadata": {},
   "outputs": [],
   "source": []
  },
  {
   "cell_type": "code",
   "execution_count": null,
   "id": "e7f8g9h0",
   "metadata": {},
   "outputs": [],
   "source": [
    "#| hide\n",
    "import nbdev; nbdev.nbdev_export()"
   ]
  }
 ],
 "metadata": {
  "kernelspec": {
   "display_name": "python3",
   "language": "python",
   "name": "python3"
  }
 },
 "nbformat": 4,
 "nbformat_minor": 5
}

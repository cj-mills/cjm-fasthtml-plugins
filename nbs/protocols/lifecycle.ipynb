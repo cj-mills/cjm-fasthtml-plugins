{
 "cells": [
  {
   "cell_type": "markdown",
   "id": "a1b2c3d4",
   "metadata": {},
   "source": [
    "# Lifecycle Protocol\n",
    "\n",
    "> Protocol for plugins that manage child processes, containers, or other external resources"
   ]
  },
  {
   "cell_type": "code",
   "execution_count": null,
   "id": "e5f6g7h8",
   "metadata": {},
   "outputs": [],
   "source": [
    "#| default_exp protocols.lifecycle"
   ]
  },
  {
   "cell_type": "code",
   "execution_count": null,
   "id": "i9j0k1l2",
   "metadata": {},
   "outputs": [],
   "source": [
    "#| hide\n",
    "from nbdev.showdoc import *"
   ]
  },
  {
   "cell_type": "code",
   "execution_count": null,
   "id": "m3n4o5p6",
   "metadata": {},
   "outputs": [],
   "source": [
    "#| export\n",
    "from typing import Protocol, runtime_checkable, List, Dict, Any\n",
    "\n",
    "from cjm_fasthtml_plugins.core.execution_mode import PluginExecutionMode"
   ]
  },
  {
   "cell_type": "markdown",
   "id": "q7r8s9t0",
   "metadata": {},
   "source": [
    "## Lifecycle-Aware Plugin Protocol\n",
    "\n",
    "This protocol defines the interface for plugins that manage external resources like:\n",
    "- Child processes (e.g., vLLM servers)\n",
    "- Docker containers\n",
    "- Conda environments\n",
    "- Remote/cloud resources\n",
    "\n",
    "Plugins implementing this protocol provide information about their managed resources,\n",
    "enabling proper resource tracking and cleanup."
   ]
  },
  {
   "cell_type": "code",
   "execution_count": null,
   "id": "u1v2w3x4",
   "metadata": {},
   "outputs": [],
   "source": [
    "#| export\n",
    "@runtime_checkable\n",
    "class LifecycleAwarePlugin(Protocol):\n",
    "    \"\"\"Protocol for plugins that manage external resources.\n",
    "    \n",
    "    Plugins implementing this protocol provide information about\n",
    "    child processes, containers, or other resources they manage.\n",
    "    \n",
    "    This enables:\n",
    "    - Resource tracking across the application\n",
    "    - Proper cleanup when stopping plugins\n",
    "    - Conflict detection for GPU/memory usage\n",
    "    - Cost tracking for cloud resources\n",
    "    \n",
    "    Example:\n",
    "        ```python\n",
    "        class VoxtralVLLMPlugin(TranscriptionPlugin, LifecycleAwarePlugin):\n",
    "            def get_execution_mode(self) -> PluginExecutionMode:\n",
    "                return PluginExecutionMode.SUBPROCESS\n",
    "            \n",
    "            def get_child_pids(self) -> List[int]:\n",
    "                if not self.server or not self.server.process:\n",
    "                    return []\n",
    "                return [self.server.process.pid]\n",
    "            \n",
    "            def get_managed_resources(self) -> Dict[str, Any]:\n",
    "                return {\n",
    "                    'server_url': self.server.base_url,\n",
    "                    'is_running': self.server.is_running()\n",
    "                }\n",
    "            \n",
    "            def force_cleanup(self) -> None:\n",
    "                if self.server:\n",
    "                    self.server.stop()\n",
    "        ```\n",
    "    \"\"\"\n",
    "    \n",
    "    def get_execution_mode(self) -> PluginExecutionMode:\n",
    "        \"\"\"Get the execution mode of this plugin.\n",
    "        \n",
    "        Returns:\n",
    "            PluginExecutionMode indicating how this plugin executes\n",
    "        \"\"\"\n",
    "        ...\n",
    "    \n",
    "    def get_child_pids(self) -> List[int]:\n",
    "        \"\"\"Get PIDs of any child processes managed by this plugin.\n",
    "        \n",
    "        For plugins that spawn subprocesses (e.g., vLLM servers), this\n",
    "        should return all child process PIDs for resource tracking.\n",
    "        \n",
    "        Returns:\n",
    "            List of process IDs (empty list if no child processes)\n",
    "        \"\"\"\n",
    "        ...\n",
    "    \n",
    "    def get_managed_resources(self) -> Dict[str, Any]:\n",
    "        \"\"\"Get information about managed resources.\n",
    "        \n",
    "        This can include:\n",
    "        - Server URLs and ports\n",
    "        - Container IDs\n",
    "        - Conda environment names\n",
    "        - Status information\n",
    "        - Any other plugin-specific resource info\n",
    "        \n",
    "        Returns:\n",
    "            Dictionary with resource information\n",
    "        \"\"\"\n",
    "        ...\n",
    "    \n",
    "    def force_cleanup(self) -> None:\n",
    "        \"\"\"Force cleanup of all managed resources.\n",
    "        \n",
    "        This should be more aggressive than regular cleanup(),\n",
    "        killing processes, stopping containers, etc. Used for\n",
    "        emergency shutdown scenarios.\n",
    "        \"\"\"\n",
    "        ..."
   ]
  },
  {
   "cell_type": "markdown",
   "id": "y5z6a7b8",
   "metadata": {},
   "source": [
    "## Example Implementation\n",
    "\n",
    "Here's how a plugin with a subprocess (like vLLM server) would implement this protocol:"
   ]
  },
  {
   "cell_type": "code",
   "execution_count": null,
   "id": "c9d0e1f2",
   "metadata": {},
   "outputs": [],
   "source": [
    "# Example: Simple subprocess-based plugin\n",
    "import subprocess\n",
    "from typing import Optional\n",
    "\n",
    "class MockVLLMPlugin:\n",
    "    \"\"\"Mock plugin that spawns a subprocess.\"\"\"\n",
    "    \n",
    "    def __init__(self):\n",
    "        self.process: Optional[subprocess.Popen] = None\n",
    "    \n",
    "    def start_server(self):\n",
    "        \"\"\"Start mock server process.\"\"\"\n",
    "        # In reality, this would start vLLM server\n",
    "        self.process = subprocess.Popen(['sleep', '3600'])\n",
    "        print(f\"Started server with PID: {self.process.pid}\")\n",
    "    \n",
    "    # Implement LifecycleAwarePlugin protocol\n",
    "    \n",
    "    def get_execution_mode(self) -> PluginExecutionMode:\n",
    "        return PluginExecutionMode.SUBPROCESS\n",
    "    \n",
    "    def get_child_pids(self) -> List[int]:\n",
    "        if self.process and self.process.poll() is None:\n",
    "            return [self.process.pid]\n",
    "        return []\n",
    "    \n",
    "    def get_managed_resources(self) -> Dict[str, Any]:\n",
    "        return {\n",
    "            'server_url': 'http://localhost:8000',\n",
    "            'is_running': self.process is not None and self.process.poll() is None,\n",
    "            'pid': self.process.pid if self.process else None\n",
    "        }\n",
    "    \n",
    "    def force_cleanup(self) -> None:\n",
    "        if self.process:\n",
    "            self.process.kill()\n",
    "            self.process.wait()\n",
    "            print(\"Killed server process\")"
   ]
  },
  {
   "cell_type": "code",
   "execution_count": null,
   "id": "g3h4i5j6",
   "metadata": {},
   "outputs": [
    {
     "name": "stdout",
     "output_type": "stream",
     "text": [
      "Implements protocol: True\n",
      "Started server with PID: 140976\n",
      "Execution mode: subprocess\n",
      "Child PIDs: [140976]\n",
      "Managed resources: {'server_url': 'http://localhost:8000', 'is_running': True, 'pid': 140976}\n",
      "Killed server process\n",
      "After cleanup, child PIDs: []\n"
     ]
    }
   ],
   "source": [
    "# Test the mock plugin\n",
    "plugin = MockVLLMPlugin()\n",
    "\n",
    "# Check it implements the protocol\n",
    "print(f\"Implements protocol: {isinstance(plugin, LifecycleAwarePlugin)}\")\n",
    "\n",
    "# Start server\n",
    "plugin.start_server()\n",
    "\n",
    "# Get execution mode\n",
    "print(f\"Execution mode: {plugin.get_execution_mode().value}\")\n",
    "\n",
    "# Get child PIDs\n",
    "pids = plugin.get_child_pids()\n",
    "print(f\"Child PIDs: {pids}\")\n",
    "\n",
    "# Get managed resources\n",
    "resources = plugin.get_managed_resources()\n",
    "print(f\"Managed resources: {resources}\")\n",
    "\n",
    "# Cleanup\n",
    "plugin.force_cleanup()\n",
    "print(f\"After cleanup, child PIDs: {plugin.get_child_pids()}\")"
   ]
  },
  {
   "cell_type": "markdown",
   "id": "k7l8m9n0",
   "metadata": {},
   "source": [
    "## Helper Functions\n",
    "\n",
    "Utilities for working with lifecycle-aware plugins."
   ]
  },
  {
   "cell_type": "code",
   "execution_count": null,
   "id": "o1p2q3r4",
   "metadata": {},
   "outputs": [],
   "source": [
    "#| export\n",
    "def is_lifecycle_aware(plugin: Any) -> bool:\n",
    "    \"\"\"Check if a plugin implements the LifecycleAwarePlugin protocol.\n",
    "    \n",
    "    Args:\n",
    "        plugin: Plugin instance to check\n",
    "    \n",
    "    Returns:\n",
    "        True if plugin implements the protocol\n",
    "    \"\"\"\n",
    "    return isinstance(plugin, LifecycleAwarePlugin)\n",
    "\n",
    "def get_all_managed_pids(plugin: Any) -> List[int]:\n",
    "    \"\"\"Get all PIDs managed by a plugin (including children).\n",
    "    \n",
    "    Args:\n",
    "        plugin: Plugin instance\n",
    "    \n",
    "    Returns:\n",
    "        List of all PIDs (empty if plugin not lifecycle-aware)\n",
    "    \"\"\"\n",
    "    if not is_lifecycle_aware(plugin):\n",
    "        return []\n",
    "    \n",
    "    pids = plugin.get_child_pids()\n",
    "    \n",
    "    # Could be extended to recursively get children of children\n",
    "    # using psutil if needed\n",
    "    \n",
    "    return pids"
   ]
  },
  {
   "cell_type": "code",
   "execution_count": null,
   "id": "s5t6u7v8",
   "metadata": {},
   "outputs": [
    {
     "name": "stdout",
     "output_type": "stream",
     "text": [
      "Started server with PID: 140977\n",
      "Is lifecycle aware: True\n",
      "All managed PIDs: [140977]\n",
      "\n",
      "Dict is lifecycle aware: False\n",
      "Dict managed PIDs: []\n",
      "Killed server process\n"
     ]
    }
   ],
   "source": [
    "# Test helper functions\n",
    "plugin = MockVLLMPlugin()\n",
    "plugin.start_server()\n",
    "\n",
    "print(f\"Is lifecycle aware: {is_lifecycle_aware(plugin)}\")\n",
    "print(f\"All managed PIDs: {get_all_managed_pids(plugin)}\")\n",
    "\n",
    "# Test with non-lifecycle-aware object\n",
    "regular_obj = {\"not\": \"a plugin\"}\n",
    "print(f\"\\nDict is lifecycle aware: {is_lifecycle_aware(regular_obj)}\")\n",
    "print(f\"Dict managed PIDs: {get_all_managed_pids(regular_obj)}\")\n",
    "\n",
    "# Cleanup\n",
    "plugin.force_cleanup()"
   ]
  },
  {
   "cell_type": "code",
   "execution_count": null,
   "id": "w9x0y1z2",
   "metadata": {},
   "outputs": [],
   "source": []
  },
  {
   "cell_type": "code",
   "execution_count": null,
   "id": "a3b4c5d6",
   "metadata": {},
   "outputs": [],
   "source": []
  },
  {
   "cell_type": "code",
   "execution_count": null,
   "id": "e7f8g9h0",
   "metadata": {},
   "outputs": [],
   "source": [
    "#| hide\n",
    "import nbdev; nbdev.nbdev_export()"
   ]
  }
 ],
 "metadata": {
  "kernelspec": {
   "display_name": "python3",
   "language": "python",
   "name": "python3"
  }
 },
 "nbformat": 4,
 "nbformat_minor": 5
}

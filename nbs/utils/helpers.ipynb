{
 "cells": [
  {
   "cell_type": "markdown",
   "id": "a1b2c3d4",
   "metadata": {},
   "source": [
    "# Helpers\n",
    "\n",
    "> Utility functions for plugin registry operations"
   ]
  },
  {
   "cell_type": "code",
   "execution_count": null,
   "id": "e5f6g7h8",
   "metadata": {},
   "outputs": [],
   "source": [
    "#| default_exp utils.helpers"
   ]
  },
  {
   "cell_type": "code",
   "execution_count": null,
   "id": "i9j0k1l2",
   "metadata": {},
   "outputs": [],
   "source": [
    "#| hide\n",
    "from nbdev.showdoc import *"
   ]
  },
  {
   "cell_type": "code",
   "execution_count": null,
   "id": "m3n4o5p6",
   "metadata": {},
   "outputs": [],
   "source": [
    "#| export\n",
    "from typing import Any, Dict, List\n",
    "from cjm_fasthtml_plugins.core.metadata import PluginMetadata\n",
    "from cjm_fasthtml_plugins.core.execution_mode import PluginExecutionMode"
   ]
  },
  {
   "cell_type": "markdown",
   "id": "q7r8s9t0",
   "metadata": {},
   "source": [
    "## Plugin Filtering and Queries"
   ]
  },
  {
   "cell_type": "code",
   "execution_count": null,
   "id": "u1v2w3x4",
   "metadata": {},
   "outputs": [],
   "source": [
    "#| export\n",
    "def filter_plugins_by_execution_mode(\n",
    "    plugins: List[PluginMetadata],  # List of plugin metadata\n",
    "    mode: PluginExecutionMode  # Execution mode to filter by\n",
    ") -> List[PluginMetadata]:  # Filtered list\n",
    "    \"\"\"Filter plugins by execution mode.\n",
    "    \n",
    "    Args:\n",
    "        plugins: List of plugin metadata\n",
    "        mode: Execution mode to filter by\n",
    "    \n",
    "    Returns:\n",
    "        List of plugins matching the execution mode\n",
    "    \"\"\"\n",
    "    return [p for p in plugins if p.execution_mode == mode]\n",
    "\n",
    "def get_cloud_plugins(plugins: List[PluginMetadata]) -> List[PluginMetadata]:\n",
    "    \"\"\"Get all cloud/remote execution plugins.\n",
    "    \n",
    "    Args:\n",
    "        plugins: List of plugin metadata\n",
    "    \n",
    "    Returns:\n",
    "        List of cloud/remote plugins\n",
    "    \"\"\"\n",
    "    return [p for p in plugins if p.is_cloud_execution()]\n",
    "\n",
    "def get_local_plugins(plugins: List[PluginMetadata]) -> List[PluginMetadata]:\n",
    "    \"\"\"Get all local execution plugins.\n",
    "    \n",
    "    Args:\n",
    "        plugins: List of plugin metadata\n",
    "    \n",
    "    Returns:\n",
    "        List of local plugins\n",
    "    \"\"\"\n",
    "    return [p for p in plugins if p.is_local_execution()]\n",
    "\n",
    "def get_configured_plugins(plugins: List[PluginMetadata]) -> List[PluginMetadata]:\n",
    "    \"\"\"Get plugins that have saved configuration.\n",
    "    \n",
    "    Args:\n",
    "        plugins: List of plugin metadata\n",
    "    \n",
    "    Returns:\n",
    "        List of configured plugins\n",
    "    \"\"\"\n",
    "    return [p for p in plugins if p.is_configured]\n",
    "\n",
    "def get_unconfigured_plugins(plugins: List[PluginMetadata]) -> List[PluginMetadata]:\n",
    "    \"\"\"Get plugins that need configuration.\n",
    "    \n",
    "    Args:\n",
    "        plugins: List of plugin metadata\n",
    "    \n",
    "    Returns:\n",
    "        List of unconfigured plugins\n",
    "    \"\"\"\n",
    "    return [p for p in plugins if not p.is_configured]"
   ]
  },
  {
   "cell_type": "code",
   "execution_count": null,
   "id": "y5z6a7b8",
   "metadata": {},
   "outputs": [
    {
     "name": "stdout",
     "output_type": "stream",
     "text": [
      "Total plugins: 3\n",
      "Subprocess plugins: ['voxtral_vllm']\n",
      "Cloud plugins: ['cloud_finetune']\n",
      "Local plugins: ['whisper_tiny', 'voxtral_vllm']\n",
      "Configured: ['whisper_tiny', 'cloud_finetune']\n",
      "Unconfigured: ['voxtral_vllm']\n"
     ]
    }
   ],
   "source": [
    "# Example: Create test plugins\n",
    "test_plugins = [\n",
    "    PluginMetadata(\n",
    "        name=\"whisper_tiny\",\n",
    "        category=\"transcription\",\n",
    "        title=\"Whisper Tiny\",\n",
    "        config_schema={},\n",
    "        execution_mode=PluginExecutionMode.IN_PROCESS,\n",
    "        is_configured=True\n",
    "    ),\n",
    "    PluginMetadata(\n",
    "        name=\"voxtral_vllm\",\n",
    "        category=\"transcription\",\n",
    "        title=\"Voxtral vLLM\",\n",
    "        config_schema={},\n",
    "        execution_mode=PluginExecutionMode.SUBPROCESS,\n",
    "        is_configured=False\n",
    "    ),\n",
    "    PluginMetadata(\n",
    "        name=\"cloud_finetune\",\n",
    "        category=\"finetuning\",\n",
    "        title=\"Cloud Finetuning\",\n",
    "        config_schema={},\n",
    "        execution_mode=PluginExecutionMode.CLOUD_GPU,\n",
    "        is_configured=True\n",
    "    )\n",
    "]\n",
    "\n",
    "print(f\"Total plugins: {len(test_plugins)}\")\n",
    "\n",
    "# Filter by execution mode\n",
    "subprocess_plugins = filter_plugins_by_execution_mode(test_plugins, PluginExecutionMode.SUBPROCESS)\n",
    "print(f\"Subprocess plugins: {[p.name for p in subprocess_plugins]}\")\n",
    "\n",
    "# Get cloud plugins\n",
    "cloud = get_cloud_plugins(test_plugins)\n",
    "print(f\"Cloud plugins: {[p.name for p in cloud]}\")\n",
    "\n",
    "# Get local plugins\n",
    "local = get_local_plugins(test_plugins)\n",
    "print(f\"Local plugins: {[p.name for p in local]}\")\n",
    "\n",
    "# Get configured/unconfigured\n",
    "configured = get_configured_plugins(test_plugins)\n",
    "unconfigured = get_unconfigured_plugins(test_plugins)\n",
    "print(f\"Configured: {[p.name for p in configured]}\")\n",
    "print(f\"Unconfigured: {[p.name for p in unconfigured]}\")"
   ]
  },
  {
   "cell_type": "markdown",
   "id": "g3h4i5j6",
   "metadata": {},
   "source": [
    "## Plugin Statistics"
   ]
  },
  {
   "cell_type": "code",
   "execution_count": null,
   "id": "k7l8m9n0",
   "metadata": {},
   "outputs": [],
   "source": [
    "#| export\n",
    "def get_plugin_stats(plugins: List[PluginMetadata]) -> Dict[str, Any]:\n",
    "    \"\"\"Get statistics about a list of plugins.\n",
    "    \n",
    "    Args:\n",
    "        plugins: List of plugin metadata\n",
    "    \n",
    "    Returns:\n",
    "        Dictionary with plugin statistics\n",
    "    \"\"\"\n",
    "    return {\n",
    "        \"total\": len(plugins),\n",
    "        \"configured\": len([p for p in plugins if p.is_configured]),\n",
    "        \"unconfigured\": len([p for p in plugins if not p.is_configured]),\n",
    "        \"local\": len([p for p in plugins if p.is_local_execution()]),\n",
    "        \"cloud\": len([p for p in plugins if p.is_cloud_execution()]),\n",
    "        \"with_active_resources\": len([p for p in plugins if p.has_active_resources()]),\n",
    "        \"by_category\": {}\n",
    "    }"
   ]
  },
  {
   "cell_type": "code",
   "execution_count": null,
   "id": "o1p2q3r4",
   "metadata": {},
   "outputs": [
    {
     "name": "stdout",
     "output_type": "stream",
     "text": [
      "Plugin Statistics:\n",
      "  total: 3\n",
      "  configured: 2\n",
      "  unconfigured: 1\n",
      "  local: 2\n",
      "  cloud: 1\n",
      "  with_active_resources: 0\n",
      "  by_category: {}\n"
     ]
    }
   ],
   "source": [
    "# Example: Get plugin statistics\n",
    "stats = get_plugin_stats(test_plugins)\n",
    "print(\"Plugin Statistics:\")\n",
    "for key, value in stats.items():\n",
    "    print(f\"  {key}: {value}\")"
   ]
  },
  {
   "cell_type": "code",
   "execution_count": null,
   "id": "s5t6u7v8",
   "metadata": {},
   "outputs": [],
   "source": []
  },
  {
   "cell_type": "code",
   "execution_count": null,
   "id": "w9x0y1z2",
   "metadata": {},
   "outputs": [],
   "source": []
  },
  {
   "cell_type": "code",
   "execution_count": null,
   "id": "a3b4c5d6",
   "metadata": {},
   "outputs": [],
   "source": [
    "#| hide\n",
    "import nbdev; nbdev.nbdev_export()"
   ]
  }
 ],
 "metadata": {
  "kernelspec": {
   "display_name": "python3",
   "language": "python",
   "name": "python3"
  }
 },
 "nbformat": 4,
 "nbformat_minor": 5
}

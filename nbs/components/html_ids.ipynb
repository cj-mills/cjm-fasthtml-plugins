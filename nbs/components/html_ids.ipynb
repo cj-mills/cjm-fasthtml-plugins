{
 "cells": [
  {
   "cell_type": "markdown",
   "id": "60ee0973",
   "metadata": {},
   "source": [
    "# HTML IDs\n",
    "\n",
    "> Centralized HTML ID constants for plugin selector components"
   ]
  },
  {
   "cell_type": "code",
   "execution_count": null,
   "id": "f3e37257",
   "metadata": {},
   "outputs": [],
   "source": [
    "#| default_exp components.html_ids"
   ]
  },
  {
   "cell_type": "code",
   "execution_count": null,
   "id": "1d8217bb",
   "metadata": {},
   "outputs": [],
   "source": [
    "#| hide\n",
    "from nbdev.showdoc import *"
   ]
  },
  {
   "cell_type": "code",
   "execution_count": null,
   "id": "8fad0321",
   "metadata": {},
   "outputs": [],
   "source": [
    "#| export\n",
    "class PluginSelectorHtmlIds:\n",
    "    \"\"\"HTML ID constants for plugin selector components.\"\"\"\n",
    "    \n",
    "    # Main plugin selector container\n",
    "    PLUGIN_SELECTOR = \"plugin-selector\"\n",
    "    \n",
    "    # Dropdown/select element\n",
    "    PLUGIN_SELECT = \"plugin-select\"\n",
    "    \n",
    "    # Details section showing selected plugin info\n",
    "    PLUGIN_DETAILS = \"plugin-details\"\n",
    "    \n",
    "    # Comparison table container\n",
    "    PLUGIN_COMPARISON = \"plugin-comparison\"\n",
    "    \n",
    "    # Toggle button for showing/hiding comparison\n",
    "    COMPARISON_TOGGLE = \"comparison-toggle\"\n",
    "    \n",
    "    @staticmethod\n",
    "    def as_selector(\n",
    "        id_str: str  # The HTML ID to convert\n",
    "    ) -> str:  # CSS selector with # prefix\n",
    "        \"\"\"Convert an ID to a CSS selector format.\"\"\"\n",
    "        return f\"#{id_str}\""
   ]
  },
  {
   "cell_type": "code",
   "execution_count": null,
   "id": "8d442d7d",
   "metadata": {},
   "outputs": [
    {
     "name": "stdout",
     "output_type": "stream",
     "text": [
      "Selector ID: plugin-selector\n",
      "CSS Selector: #plugin-details\n"
     ]
    }
   ],
   "source": [
    "# Example: Using the HTML ID constants\n",
    "print(f\"Selector ID: {PluginSelectorHtmlIds.PLUGIN_SELECTOR}\")\n",
    "print(f\"CSS Selector: {PluginSelectorHtmlIds.as_selector(PluginSelectorHtmlIds.PLUGIN_DETAILS)}\")"
   ]
  },
  {
   "cell_type": "code",
   "execution_count": null,
   "id": "ff1c9705",
   "metadata": {},
   "outputs": [],
   "source": []
  },
  {
   "cell_type": "code",
   "execution_count": null,
   "id": "fa868b2e",
   "metadata": {},
   "outputs": [],
   "source": []
  },
  {
   "cell_type": "code",
   "execution_count": null,
   "id": "c04fd668",
   "metadata": {},
   "outputs": [],
   "source": [
    "#| hide\n",
    "import nbdev; nbdev.nbdev_export()"
   ]
  }
 ],
 "metadata": {
  "kernelspec": {
   "display_name": "python3",
   "language": "python",
   "name": "python3"
  }
 },
 "nbformat": 4,
 "nbformat_minor": 5
}

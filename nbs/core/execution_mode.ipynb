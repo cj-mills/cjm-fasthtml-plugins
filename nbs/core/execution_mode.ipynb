{
 "cells": [
  {
   "cell_type": "markdown",
   "id": "a1b2c3d4",
   "metadata": {},
   "source": [
    "# Execution Mode\n",
    "\n",
    "> Enum definitions for plugin execution modes (in-process, subprocess, Docker, cloud, etc.)"
   ]
  },
  {
   "cell_type": "code",
   "execution_count": null,
   "id": "e5f6g7h8",
   "metadata": {},
   "outputs": [],
   "source": [
    "#| default_exp core.execution_mode"
   ]
  },
  {
   "cell_type": "code",
   "execution_count": null,
   "id": "i9j0k1l2",
   "metadata": {},
   "outputs": [],
   "source": [
    "#| hide\n",
    "from nbdev.showdoc import *"
   ]
  },
  {
   "cell_type": "code",
   "execution_count": null,
   "id": "m3n4o5p6",
   "metadata": {},
   "outputs": [],
   "source": [
    "#| export\n",
    "from enum import Enum"
   ]
  },
  {
   "cell_type": "markdown",
   "id": "q7r8s9t0",
   "metadata": {},
   "source": [
    "## Plugin Execution Modes\n",
    "\n",
    "These enums define how plugins execute - from simple in-process execution to complex cloud-based deployments."
   ]
  },
  {
   "cell_type": "code",
   "execution_count": null,
   "id": "u1v2w3x4",
   "metadata": {},
   "outputs": [],
   "source": [
    "#| export\n",
    "class PluginExecutionMode(Enum):\n",
    "    \"\"\"Categorizes plugins by their execution environment, from in-process to cloud deployments.\"\"\"\n",
    "    IN_PROCESS = \"in_process\"          # Runs in same process\n",
    "    SUBPROCESS = \"subprocess\"           # Spawns subprocess(es)\n",
    "    DOCKER = \"docker\"                   # Runs in Docker container\n",
    "    CONDA_ENV = \"conda_env\"            # Runs in separate conda environment\n",
    "    EXTERNAL_SERVICE = \"external\"       # Connects to external service (local)\n",
    "    \n",
    "    # Cloud/Remote execution modes\n",
    "    REMOTE_SSH = \"remote_ssh\"          # SSH to remote machine\n",
    "    CLOUD_VM = \"cloud_vm\"              # Cloud VM (AWS EC2, GCP Compute, etc.)\n",
    "    CLOUD_CONTAINER = \"cloud_container\" # Cloud container service (ECS, Cloud Run, etc.)\n",
    "    CLOUD_SERVERLESS = \"cloud_serverless\" # Serverless (Lambda, Cloud Functions, etc.)\n",
    "    CLOUD_GPU = \"cloud_gpu\"            # Cloud GPU service (SageMaker, Vertex AI, etc.)\n",
    "    KUBERNETES = \"kubernetes\"          # Kubernetes cluster"
   ]
  },
  {
   "cell_type": "code",
   "execution_count": null,
   "id": "y5z6a7b8",
   "metadata": {},
   "outputs": [
    {
     "name": "stdout",
     "output_type": "stream",
     "text": [
      "Local execution modes:\n",
      "  IN_PROCESS: in_process\n",
      "  SUBPROCESS: subprocess\n",
      "  DOCKER: docker\n",
      "\n",
      "Cloud execution modes:\n",
      "  CLOUD_VM: cloud_vm\n",
      "  CLOUD_GPU: cloud_gpu\n",
      "  CLOUD_SERVERLESS: cloud_serverless\n"
     ]
    }
   ],
   "source": [
    "# Example: Check execution mode values\n",
    "print(\"Local execution modes:\")\n",
    "for mode in [PluginExecutionMode.IN_PROCESS, PluginExecutionMode.SUBPROCESS, PluginExecutionMode.DOCKER]:\n",
    "    print(f\"  {mode.name}: {mode.value}\")\n",
    "\n",
    "print(\"\\nCloud execution modes:\")\n",
    "for mode in [PluginExecutionMode.CLOUD_VM, PluginExecutionMode.CLOUD_GPU, PluginExecutionMode.CLOUD_SERVERLESS]:\n",
    "    print(f\"  {mode.name}: {mode.value}\")"
   ]
  },
  {
   "cell_type": "code",
   "execution_count": null,
   "id": "c9d0e1f2",
   "metadata": {},
   "outputs": [
    {
     "name": "stdout",
     "output_type": "stream",
     "text": [
      "IN_PROCESS is local: True\n",
      "CLOUD_GPU is local: False\n",
      "CLOUD_GPU is cloud: True\n"
     ]
    }
   ],
   "source": [
    "# Example: Categorize execution modes\n",
    "def is_local_execution(mode: PluginExecutionMode) -> bool:\n",
    "    \"\"\"Check if execution mode is local (not cloud/remote).\"\"\"\n",
    "    local_modes = {\n",
    "        PluginExecutionMode.IN_PROCESS,\n",
    "        PluginExecutionMode.SUBPROCESS,\n",
    "        PluginExecutionMode.DOCKER,\n",
    "        PluginExecutionMode.CONDA_ENV,\n",
    "        PluginExecutionMode.EXTERNAL_SERVICE\n",
    "    }\n",
    "    return mode in local_modes\n",
    "\n",
    "def is_cloud_execution(mode: PluginExecutionMode) -> bool:\n",
    "    \"\"\"Check if execution mode is cloud/remote.\"\"\"\n",
    "    return not is_local_execution(mode)\n",
    "\n",
    "# Test\n",
    "print(f\"IN_PROCESS is local: {is_local_execution(PluginExecutionMode.IN_PROCESS)}\")\n",
    "print(f\"CLOUD_GPU is local: {is_local_execution(PluginExecutionMode.CLOUD_GPU)}\")\n",
    "print(f\"CLOUD_GPU is cloud: {is_cloud_execution(PluginExecutionMode.CLOUD_GPU)}\")"
   ]
  },
  {
   "cell_type": "markdown",
   "id": "g3h4i5j6",
   "metadata": {},
   "source": [
    "## Cloud Provider Types\n",
    "\n",
    "For cloud-based execution modes, we also track which cloud provider is being used."
   ]
  },
  {
   "cell_type": "code",
   "execution_count": null,
   "id": "k7l8m9n0",
   "metadata": {},
   "outputs": [],
   "source": [
    "#| export\n",
    "class CloudProviderType(Enum):\n",
    "    \"\"\"Cloud providers and GPU rental services for remote execution.\"\"\"\n",
    "    AWS = \"aws\"\n",
    "    GCP = \"gcp\"\n",
    "    AZURE = \"azure\"\n",
    "    LAMBDA_LABS = \"lambda_labs\"\n",
    "    RUNPOD = \"runpod\"\n",
    "    VAST_AI = \"vast_ai\"\n",
    "    PAPERSPACE = \"paperspace\"\n",
    "    TOGETHER_AI = \"together_ai\"\n",
    "    CUSTOM = \"custom\"  # Custom/self-hosted infrastructure"
   ]
  },
  {
   "cell_type": "code",
   "execution_count": null,
   "id": "o1p2q3r4",
   "metadata": {},
   "outputs": [
    {
     "name": "stdout",
     "output_type": "stream",
     "text": [
      "Supported cloud providers:\n",
      "  - aws\n",
      "  - gcp\n",
      "  - azure\n",
      "  - lambda_labs\n",
      "  - runpod\n",
      "  - vast_ai\n",
      "  - paperspace\n",
      "  - together_ai\n",
      "  - custom\n"
     ]
    }
   ],
   "source": [
    "# Example: List all supported providers\n",
    "print(\"Supported cloud providers:\")\n",
    "for provider in CloudProviderType:\n",
    "    print(f\"  - {provider.value}\")"
   ]
  },
  {
   "cell_type": "code",
   "execution_count": null,
   "id": "s5t6u7v8",
   "metadata": {},
   "outputs": [],
   "source": []
  },
  {
   "cell_type": "code",
   "execution_count": null,
   "id": "w9x0y1z2",
   "metadata": {},
   "outputs": [],
   "source": []
  },
  {
   "cell_type": "code",
   "execution_count": null,
   "id": "a3b4c5d6",
   "metadata": {},
   "outputs": [],
   "source": [
    "#| hide\n",
    "import nbdev; nbdev.nbdev_export()"
   ]
  }
 ],
 "metadata": {
  "kernelspec": {
   "display_name": "python3",
   "language": "python",
   "name": "python3"
  }
 },
 "nbformat": 4,
 "nbformat_minor": 5
}
